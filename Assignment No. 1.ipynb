{
  "nbformat": 4,
  "nbformat_minor": 0,
  "metadata": {
    "colab": {
      "provenance": []
    },
    "kernelspec": {
      "name": "python3",
      "display_name": "Python 3"
    },
    "language_info": {
      "name": "python"
    }
  },
  "cells": [
    {
      "cell_type": "markdown",
      "source": [
        "Q1- Explain the key features of Python that make it a popular choice for programming.\n",
        "\n",
        "Ans. 1- Key Features of Python:-\n",
        "\n",
        "a) Easy to learn and read\n",
        "b) Interpreted & Dynamically Typed\n",
        "c) Extensive Standard Library\n",
        "d) Cross-Platform Compatibility\n",
        "e) Strong Support for Multiple Programming Paradigms\n",
        "f) Rich Ecosystem of Third-Party Libraries\n",
        "g) Massive Global Community\n",
        "h) Integration Capabilities"
      ],
      "metadata": {
        "id": "9VEME478CuZ2"
      }
    },
    {
      "cell_type": "markdown",
      "source": [
        "Q2- Describe the role of predefined keywords in Python and provide examples of how they are used in a program.\n",
        "\n",
        "Ans. 2- Python keywords are reserved words that have predefined meanings and serve as the foundational building blocks of Python syntax. These words define the structure and control flow of programs.\n",
        "\n",
        "You can’t use them as variable, function, or class names.\n",
        "They’re automatically recognized by the interpreter.\n",
        "Examples of Python Keywords in Action\n",
        "\n",
        "if, else, and elif score = 85\n",
        "if score >= 90: print(\"Excellent!\") elif score >= 75: print(\"Good job!\") else: print(\"Keep trying!\")\n",
        "\n",
        "for and in fruits = ['apple', 'banana', 'cherry']\n",
        "for fruit in fruits: print(fruit)\n",
        "\n",
        "def and return def greet(name): return \"Hello, \" + name\n",
        "print(greet(\"Rishabh\"))\n",
        "\n",
        "try, except, and finally try: x = 1 / 0 except ZeroDivisionError: print(\"Can't divide by zero!\") finally: print(\"Execution complete.\")"
      ],
      "metadata": {
        "id": "Sgfbe7GlFJ5g"
      }
    },
    {
      "cell_type": "markdown",
      "source": [
        "Q3- Compare and contrast mutable and immutable objects in Python with examples.\n",
        "\n",
        "Ans. 3- Mutable Objects Can be changed after creation. e.g., List,Dict, Set, bytearray.Mutable objects can be altered inside functions.\n",
        "\n",
        "Immutable Objects-Cannot be changed after creation. e.g., Int, float, str, tupple,bool,frozenset.Immutable ones cannot—unless reassigned.\n",
        "\n",
        "\n",
        "\n"
      ],
      "metadata": {
        "id": "F9KYS0ecDr8_"
      }
    },
    {
      "cell_type": "markdown",
      "source": [
        "Q4- Discuss the different types of operators in Python and provide examples of how they are used.\n",
        "\n",
        "Ans. 4- Types of Operator:-\n",
        "\n",
        "1- Airthmetic Operator- Used for basic mathamatical operations viz. addition, subtraction, multiplication, Division, etc.\n",
        "\n",
        "2- Assignment Operators- Used to assign values to variables. (=, +=, -=, *=, /=)\n",
        "\n",
        "3-Logical Operator- Used to combine boolean expressions. (And, Or, Not).\n",
        "\n",
        "4- Comparison Operators-Compare Values and return True or False.\n",
        "\n",
        "e.g., ==, !=, <, >, >=, <=\n",
        "\n",
        "5- Identity Operator- Check whether two variables refer to the same object in memory. (Is, Is Not)\n",
        "\n",
        "6- Membership Operator- Check if a value exist in a sequence like list, tuple, or string. (In, Not In)\n",
        "\n"
      ],
      "metadata": {
        "id": "Ym6eEKVxHcc0"
      }
    },
    {
      "cell_type": "markdown",
      "source": [
        "Q5- Explain the concept of type casting in Python with examples.\n",
        "\n",
        "Ans 5- Type casting refers to changing the type of a variable or value into a different type.\n",
        "There are two kinds:\n",
        "- Implicit Type Casting Done automatically by Python.\n",
        "- Explicit Type Casting Done manually by the programmer using functions like\n",
        "  int(), float(), str(), etc.\n",
        "\n",
        "\n",
        "\n",
        "\n",
        "  IMPLICIT TYPECASTING-\n",
        "  \n",
        "a = 10       # int\n",
        "b = 2.5      # float\n",
        "result = a + b  # int + float → float\n",
        "print(result)   # Output: 12.5\n",
        "print(type(result))  # Output: <class 'float'>\n",
        "\n",
        "EXPLICIT TYPECASTING-\n",
        "\n",
        "a = 9.7\n",
        "b = int(a)\n",
        "print(b)  # Output: 9 (decimal part is discarded)\n",
        "\n"
      ],
      "metadata": {
        "id": "qbJEMuizJ3zS"
      }
    },
    {
      "cell_type": "markdown",
      "source": [
        "Q6- How do conditional statements work in Python? Illustrate with examples.\n",
        "\n",
        "Ans6- Conditional Statements- allows to execute certain blocks of code only if specific conditions are met.\n",
        "\n",
        "For example- \"If it’s raining, carry an umbrella. Otherwise, wear sunglasses.\"\n",
        "\n",
        "If, Elif, Else are building blocks of conditional statements.\n",
        "\n",
        "Example-\n",
        "temperature = 30\n",
        "if temperature > 25:\n",
        "    print(\"It's hot outside!\")\n",
        "\n",
        "Output- It's hot outside!\n",
        "\n",
        "\n",
        "temperature = 18\n",
        "if temperature > 25:\n",
        "    print(\"It's hot outside!\")\n",
        "else:\n",
        "    print(\"It's pleasant.\")\n",
        "\n",
        "Output- It's pleasant.\n",
        "\n",
        "\n",
        "\n",
        "\n"
      ],
      "metadata": {
        "id": "TiENQtofOD3B"
      }
    },
    {
      "cell_type": "markdown",
      "source": [
        "Q7- Describe the different types of loops in Python and their use cases with examples.\n",
        "\n",
        "Ans7- Types of Loops in Python\n",
        "\n",
        "1- for Loop\n",
        "\n",
        "Example\n",
        "\n",
        "Iterating over a list:\n",
        "fruits = [\"apple\", \"banana\", \"cherry\"]\n",
        "for fruit in fruits:\n",
        "    print(f\"I like {fruit}\")\n",
        "\n",
        "\n",
        "Output:\n",
        "I like apple\n",
        "I like banana\n",
        "I like cherry\n",
        "\n",
        "\n",
        "\n",
        "\n",
        "2- while Loop\n",
        "\n",
        "Example\n",
        "\n",
        "count = 0\n",
        "while count < 3:\n",
        "    print(\"Looping...\")\n",
        "    count += 1\n",
        "\n",
        "\n",
        "Output:\n",
        "Looping...\n",
        "Looping...\n",
        "Looping...\n",
        "\n",
        "\n"
      ],
      "metadata": {
        "id": "owrpLY0OFBPd"
      }
    },
    {
      "cell_type": "code",
      "execution_count": null,
      "metadata": {
        "id": "4d7DvXp6CqbN"
      },
      "outputs": [],
      "source": []
    }
  ]
}